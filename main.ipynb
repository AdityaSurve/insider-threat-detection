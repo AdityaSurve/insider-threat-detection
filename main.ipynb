{
 "cells": [
  {
   "cell_type": "code",
   "execution_count": 1,
   "metadata": {},
   "outputs": [],
   "source": [
    "import pandas as pd\n",
    "import numpy as np\n",
    "import matplotlib.pyplot as plt"
   ]
  },
  {
   "cell_type": "code",
   "execution_count": 5,
   "metadata": {},
   "outputs": [
    {
     "name": "stdout",
     "output_type": "stream",
     "text": [
      "device.csv\n",
      "psychometric.csv\n",
      "file.csv\n",
      "logon.csv\n",
      "http.csv\n",
      "readme.txt\n",
      "license.txt\n",
      "email.csv\n",
      "2010-01.csv\n",
      "2010-02.csv\n",
      "2010-03.csv\n",
      "2010-07.csv\n",
      "2010-12.csv\n",
      "2010-06.csv\n",
      "2010-10.csv\n",
      "2010-04.csv\n",
      "2010-05.csv\n",
      "2010-11.csv\n",
      "2010-08.csv\n",
      "2010-09.csv\n",
      "2009-12.csv\n",
      "2011-03.csv\n",
      "2011-02.csv\n",
      "2011-01.csv\n",
      "2011-05.csv\n",
      "2011-04.csv\n"
     ]
    }
   ],
   "source": [
    "import os\n",
    "\n",
    "for dirname, _, filenames in os.walk(\"./r4.2/\"):\n",
    "    for filename in filenames:\n",
    "        print(filename)"
   ]
  },
  {
   "cell_type": "code",
   "execution_count": null,
   "metadata": {},
   "outputs": [],
   "source": []
  }
 ],
 "metadata": {
  "kernelspec": {
   "display_name": "Python 3",
   "language": "python",
   "name": "python3"
  },
  "language_info": {
   "codemirror_mode": {
    "name": "ipython",
    "version": 3
   },
   "file_extension": ".py",
   "mimetype": "text/x-python",
   "name": "python",
   "nbconvert_exporter": "python",
   "pygments_lexer": "ipython3",
   "version": "3.11.5"
  }
 },
 "nbformat": 4,
 "nbformat_minor": 2
}
